{
 "cells": [
  {
   "cell_type": "code",
   "execution_count": 1,
   "metadata": {},
   "outputs": [],
   "source": [
    "import json\n",
    "import uuid\n",
    "from pydantic import BaseModel, Field\n",
    "from typing import List\n",
    "\n"
   ]
  },
  {
   "cell_type": "code",
   "execution_count": 18,
   "metadata": {},
   "outputs": [],
   "source": [
    "# ----------------------------------------------------\n",
    "# Definição dos Modelos Pydantic\n",
    "# ----------------------------------------------------\n",
    "class Categoria(BaseModel):\n",
    "    nome: str\n",
    "    objetos: List[str]\n",
    "\n",
    "class KnowledgeObjectFile(BaseModel):\n",
    "    nome: str\n",
    "    disciplina: str\n",
    "    categorias: List[Categoria]\n",
    "    id: str = None  # Campo extra para armazenar ID\n",
    "\n",
    "class KnowledgeObjectListFile(BaseModel):\n",
    "    # Usamos alias para manter a chave original com acento\n",
    "    areas_de_competencia: List[KnowledgeObjectFile] = Field(alias=\"áreas_de_competência\")\n"
   ]
  },
  {
   "cell_type": "code",
   "execution_count": 16,
   "metadata": {},
   "outputs": [],
   "source": [
    "# ----------------------------------------------------\n",
    "# Função auxiliar para adicionar IDs\n",
    "# ----------------------------------------------------\n",
    "def add_ids_to_data(data: KnowledgeObjectListFile) -> KnowledgeObjectListFile:\n",
    "    # Percorre cada \"KnowledgeObjectFile\"\n",
    "    for knowledge_obj in data.areas_de_competencia:\n",
    "        for categoria in knowledge_obj.categorias:\n",
    "            novos_objetos = []\n",
    "            for obj in categoria.objetos:\n",
    "                novos_objetos.append({\"id\": str(uuid.uuid4()), \"objeto\": obj})\n",
    "            categoria.objetos = novos_objetos\n",
    "    return data"
   ]
  },
  {
   "cell_type": "code",
   "execution_count": 9,
   "metadata": {},
   "outputs": [],
   "source": [
    "\n",
    "# ----------------------------------------------------\n",
    "# Função principal de leitura, adição de id e escrita\n",
    "# ----------------------------------------------------\n",
    "def process_json_file(input_file_path: str, output_file_path: str) -> None:\n",
    "    try:\n",
    "        # 1. Ler arquivo de entrada\n",
    "        with open(input_file_path, \"r\", encoding=\"utf-8\") as f:\n",
    "            raw_data = json.load(f)\n",
    "\n",
    "        # 2. Validar/parse com Pydantic\n",
    "        data_parsed = KnowledgeObjectListFile.model_validate(raw_data)\n",
    "\n",
    "        # 3. Inserir IDs\n",
    "        data_with_ids = add_ids_to_data(data_parsed)\n",
    "\n",
    "        # 4. Gerar dicionário final (mantendo alias de campo)\n",
    "        data_dict = data_with_ids.model_dump(by_alias=True, exclude_unset=False)\n",
    "\n",
    "        # 5. Salvar em arquivo de saída\n",
    "        with open(output_file_path, \"w\", encoding=\"utf-8\") as f:\n",
    "            json.dump(data_dict, f, indent=4, ensure_ascii=False)\n",
    "\n",
    "        print(\"Arquivo processado com sucesso!\")\n",
    "    except Exception as e:\n",
    "        print(\"Erro ao processar o arquivo:\", str(e))"
   ]
  },
  {
   "cell_type": "code",
   "execution_count": 19,
   "metadata": {},
   "outputs": [
    {
     "name": "stdout",
     "output_type": "stream",
     "text": [
      "Arquivo processado com sucesso!\n"
     ]
    }
   ],
   "source": [
    "process_json_file(\"data/knowledgeObjects.json\", \"data/knowledgeObjects_output.json\")"
   ]
  }
 ],
 "metadata": {
  "kernelspec": {
   "display_name": "Python 3",
   "language": "python",
   "name": "python3"
  },
  "language_info": {
   "codemirror_mode": {
    "name": "ipython",
    "version": 3
   },
   "file_extension": ".py",
   "mimetype": "text/x-python",
   "name": "python",
   "nbconvert_exporter": "python",
   "pygments_lexer": "ipython3",
   "version": "3.12.4"
  }
 },
 "nbformat": 4,
 "nbformat_minor": 2
}
